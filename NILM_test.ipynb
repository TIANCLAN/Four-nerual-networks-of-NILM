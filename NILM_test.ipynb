{
 "cells": [
  {
   "cell_type": "code",
   "execution_count": 2,
   "id": "d1f5722e-99ba-4a16-8696-3619973e259e",
   "metadata": {},
   "outputs": [
    {
     "name": "stdout",
     "output_type": "stream",
     "text": [
      "WARNING:tensorflow:From /environment/miniconda3/lib/python3.7/site-packages/tensorflow/python/compat/v2_compat.py:111: disable_resource_variables (from tensorflow.python.ops.variable_scope) is deprecated and will be removed in a future version.\n",
      "Instructions for updating:\n",
      "non-resource variables are not supported in the long term\n"
     ]
    }
   ],
   "source": [
    "import numpy as np\n",
    "import tensorflow.compat.v1 as tf\n",
    "tf.disable_v2_behavior()\n",
    "import tensorflow.keras.backend as K\n",
    "from mpl_toolkits.mplot3d import Axes3D\n",
    "import matplotlib.pyplot as plt\n",
    "import pandas as pd\n",
    "import os\n",
    "import datetime\n",
    "import argparse\n",
    "from VAE_functions import *\n",
    "from NILM_functions import *\n",
    "import pickle\n",
    "from scipy.stats import norm\n",
    "from keras.utils.vis_utils import plot_model\n",
    "import logging\n",
    "import json"
   ]
  },
  {
   "cell_type": "code",
   "execution_count": 3,
   "id": "b2edadda-dcea-46a7-80ac-cfcbe6be69a6",
   "metadata": {},
   "outputs": [],
   "source": [
    "thr_house_2 = { \"FridgeFreezer\" : 50,\n",
    "                \"WashingMachine\" : 20,\n",
    "                \"DishWasher\" : 100,\n",
    "                \"Kettle\" : 100,\n",
    "                \"Microwave\" : 200,\n",
    "               \"Toaster\" :100,\n",
    "                 \"fan\" : 5,\n",
    "                  \"computerMonitor\" : 60}"
   ]
  },
  {
   "cell_type": "code",
   "execution_count": 4,
   "id": "32a2bdd8-1adf-4674-86bf-8ccc38c21c54",
   "metadata": {},
   "outputs": [
    {
     "data": {
      "text/plain": [
       "_StoreAction(option_strings=['--previous'], dest='previous', nargs=None, const=None, default=1, type=<class 'int'>, choices=None, help='Select previous experiment', metavar=None)"
      ]
     },
     "execution_count": 4,
     "metadata": {},
     "output_type": "execute_result"
    }
   ],
   "source": [
    "parser = argparse.ArgumentParser()\n",
    "parser\n",
    "parser.add_argument(\"--gpu\", default=0, type=int, help=\"GPU to use\")\n",
    "parser.add_argument(\"--config\", default=\"Config/House_2/Microwave_VAE.json\", type=str, help=\"Path to the config file\")\n",
    "parser.add_argument(\"--time\", default=\"\", type=str, help=\"Folder name containing runs\")\n",
    "parser.add_argument(\"--save_pred\", default=True, type=bool, help=\"Save y_pred_all\")\n",
    "parser.add_argument(\"--previous\", default=1, type=int, help=\"Select previous experiment\")"
   ]
  },
  {
   "cell_type": "code",
   "execution_count": 5,
   "id": "a62f2764-9173-4916-ac8e-3667914cf643",
   "metadata": {},
   "outputs": [
    {
     "name": "stdout",
     "output_type": "stream",
     "text": [
      "Namespace(config='Config/House_2/Microwave_VAE.json', gpu=0, previous=1, save_pred=True, time='')\n"
     ]
    }
   ],
   "source": [
    "a = parser.parse_args(args=[])\n",
    "print(a)\n",
    "with open(a.config) as data_file:\n",
    "    nilm = json.load(data_file)"
   ]
  },
  {
   "cell_type": "code",
   "execution_count": 6,
   "id": "ef679bdf-33b9-49c1-b18c-574e2516a8bf",
   "metadata": {},
   "outputs": [],
   "source": [
    "name = \"NILM_Disag_{}\".format(nilm[\"appliance\"])\n",
    "previous = a.previous\n",
    "\n",
    "if a.time == \"\":\n",
    "    files_and_directories = os.listdir(\"../../data/NILM/{}/ukdale/{}/logs/model/House_{}/\".format(name, nilm[\"model\"], nilm[\"dataset\"][\"test\"][\"house\"][0]))\n",
    "    #files_and_directories = os.listdir(\"{}/ukdale/{}/logs/model/House_{}/\".format(name, nilm[\"model\"], nilm[\"dataset\"][\"test\"][\"house\"][0]))\n",
    "    time = np.sort(files_and_directories)[-previous]\n",
    "else:\n",
    "    time = a.time"
   ]
  },
  {
   "cell_type": "code",
   "execution_count": 52,
   "id": "d0e9b23f-30e1-4af1-aa5d-cc841c2f97c3",
   "metadata": {},
   "outputs": [
    {
     "name": "stdout",
     "output_type": "stream",
     "text": [
      "[[3130106.27150726]]\n",
      "[[619969.47222222]]\n",
      "[[-1.02440355]]\n",
      "[[-1.02440355]]\n",
      "nan [-1.02440355] [[-1.02440355]]\n"
     ]
    }
   ],
   "source": [
    "x_total = []\n",
    "y_total_pred = []\n",
    "y_total_true = []\n",
    "\n",
    "#data = np.load(\"../../data/NILM/{}/ukdale/{}/logs/model/House_{}/{}/pred_{}.npy\".format(name, nilm[\"model\"], nilm[\"dataset\"][\"test\"][\"house\"][0], time,1),encoding = \"latin1\",allow_pickle=True)\n",
    "#data = np.load(\"{}/ukdale/{}/logs/model/House_{}/{}/pred_{}.npy\".format(name, nilm[\"model\"], nilm[\"dataset\"][\"test\"][\"house\"][0], time, r),encoding = \"latin1\",allow_pickle=True)\n",
    "data = np.load(\"../../data/NILM/NILM_Disag_Microwave/ukdale/VAE/logs/model/House_12/20220715-172909/pred_1.npy\")\n",
    "x_total = data[0]\n",
    "y_total_pred = data[1]\n",
    "y_total_true = data[2]\n",
    "def acc_Power1(x_pred, x_test, c_test=0, app_ratio=0, disaggregation=False):\n",
    "    x_pred = y_total_pred\n",
    "    x_test = y_total_true\n",
    "    if disaggregation:\n",
    "        Pest = np.sum(x_pred, axis=1).reshape([-1,1])\n",
    "        print(Pest)\n",
    "        Preal = np.sum(x_test, axis=1).reshape([-1,1])\n",
    "        print(Preal)\n",
    "        acc_P = ((np.abs(Pest - Preal)/(2*Preal))*-1)+1\n",
    "        print(acc_P)\n",
    "        acc_P = np.nan_to_num(acc_P)\n",
    "        print(acc_P)\n",
    "        acc_P_tot = np.mean(acc_P[acc_P>0])\n",
    "        acc_P_app = acc_P.reshape(-1)\n",
    "    else:\n",
    "        M_ratio = (np.tile(app_ratio, [c_test.shape[0],1])*c_test)\n",
    "        print(M_ratio)\n",
    "        Pest = np.sum(x_pred, axis=1).reshape([-1,1])\n",
    "        print(Pest)\n",
    "        Pest = (np.tile(Pest, [1,c_test.shape[1]])*M_ratio)\n",
    "        print(Pest)\n",
    "        Preal = np.sum(x_test, axis=1).reshape([-1,1])\n",
    "        print(Preal)\n",
    "        Preal = (np.tile(Preal, [1,c_test.shape[1]])*M_ratio)\n",
    "        print(Preal)\n",
    "        acc_P = ((np.abs(Pest - Preal)/(2*Preal))*-1)+1\n",
    "        print(acc_P)\n",
    "        acc_P = np.nan_to_num(acc_P)\n",
    "        acc_P_tot = acc_P.sum(axis=1).mean()\n",
    "        acc_P_app = acc_P.sum(axis=0)/c_test.sum(axis=0)\n",
    "    print(acc_P_tot,acc_P_app,acc_P)\n",
    "\n",
    "acc_Power1(y_total_pred, y_total_true, disaggregation=True)"
   ]
  },
  {
   "cell_type": "code",
   "execution_count": 42,
   "id": "8dcd82d2-2aaf-464b-89ed-080be00a199e",
   "metadata": {},
   "outputs": [
    {
     "name": "stdout",
     "output_type": "stream",
     "text": [
      "44.29329509544597\n",
      "nan\n",
      "0.03819808406997797\n"
     ]
    },
    {
     "ename": "KeyboardInterrupt",
     "evalue": "",
     "output_type": "error",
     "traceback": [
      "\u001b[0;31m---------------------------------------------------------------------------\u001b[0m",
      "\u001b[0;31mKeyboardInterrupt\u001b[0m                         Traceback (most recent call last)",
      "\u001b[0;32m/tmp/ipykernel_32871/464109904.py\u001b[0m in \u001b[0;36m<module>\u001b[0;34m\u001b[0m\n\u001b[1;32m     24\u001b[0m     \u001b[0;31m# F1_app = F1_metric(y_total_pred, y_total_true, thr=thr_house_2[nilm[\"appliance\"]])\u001b[0m\u001b[0;34m\u001b[0m\u001b[0;34m\u001b[0m\u001b[0;34m\u001b[0m\u001b[0m\n\u001b[1;32m     25\u001b[0m     \u001b[0mPR_app\u001b[0m \u001b[0;34m=\u001b[0m \u001b[0mPR_metric\u001b[0m\u001b[0;34m(\u001b[0m\u001b[0my_total_pred\u001b[0m\u001b[0;34m,\u001b[0m \u001b[0my_total_true\u001b[0m\u001b[0;34m,\u001b[0m \u001b[0mthr\u001b[0m\u001b[0;34m=\u001b[0m\u001b[0mthr_house_2\u001b[0m\u001b[0;34m[\u001b[0m\u001b[0;34m\"computerMonitor\"\u001b[0m\u001b[0;34m]\u001b[0m\u001b[0;34m)\u001b[0m\u001b[0;34m\u001b[0m\u001b[0;34m\u001b[0m\u001b[0m\n\u001b[0;32m---> 26\u001b[0;31m     \u001b[0mRE_app\u001b[0m \u001b[0;34m=\u001b[0m \u001b[0mRE_metric\u001b[0m\u001b[0;34m(\u001b[0m\u001b[0my_total_pred\u001b[0m\u001b[0;34m,\u001b[0m \u001b[0my_total_true\u001b[0m\u001b[0;34m,\u001b[0m \u001b[0mthr\u001b[0m\u001b[0;34m=\u001b[0m\u001b[0mthr_house_2\u001b[0m\u001b[0;34m[\u001b[0m\u001b[0;34m\"computerMonitor\"\u001b[0m\u001b[0;34m]\u001b[0m\u001b[0;34m)\u001b[0m\u001b[0;34m\u001b[0m\u001b[0;34m\u001b[0m\u001b[0m\n\u001b[0m\u001b[1;32m     27\u001b[0m     \u001b[0mF1_app\u001b[0m \u001b[0;34m=\u001b[0m \u001b[0mF1_metric\u001b[0m\u001b[0;34m(\u001b[0m\u001b[0my_total_pred\u001b[0m\u001b[0;34m,\u001b[0m \u001b[0my_total_true\u001b[0m\u001b[0;34m,\u001b[0m \u001b[0mthr\u001b[0m\u001b[0;34m=\u001b[0m\u001b[0mthr_house_2\u001b[0m\u001b[0;34m[\u001b[0m\u001b[0;34m\"computerMonitor\"\u001b[0m\u001b[0;34m]\u001b[0m\u001b[0;34m)\u001b[0m\u001b[0;34m\u001b[0m\u001b[0;34m\u001b[0m\u001b[0m\n\u001b[1;32m     28\u001b[0m     \u001b[0mSAE_app\u001b[0m \u001b[0;34m=\u001b[0m \u001b[0mSAE_metric\u001b[0m\u001b[0;34m(\u001b[0m\u001b[0my_total_pred\u001b[0m\u001b[0;34m,\u001b[0m \u001b[0my_total_true\u001b[0m\u001b[0;34m)\u001b[0m\u001b[0;34m\u001b[0m\u001b[0;34m\u001b[0m\u001b[0m\n",
      "\u001b[0;32m~/work/VAE-Main/NILM_functions.py\u001b[0m in \u001b[0;36mRE_metric\u001b[0;34m(x_pred, x_test, thr)\u001b[0m\n\u001b[1;32m   1015\u001b[0m \u001b[0;34m\u001b[0m\u001b[0m\n\u001b[1;32m   1016\u001b[0m     \u001b[0;32mfor\u001b[0m \u001b[0mi\u001b[0m \u001b[0;32min\u001b[0m \u001b[0mrange\u001b[0m\u001b[0;34m(\u001b[0m\u001b[0mx_pred\u001b[0m\u001b[0;34m.\u001b[0m\u001b[0mshape\u001b[0m\u001b[0;34m[\u001b[0m\u001b[0;36m0\u001b[0m\u001b[0;34m]\u001b[0m\u001b[0;34m)\u001b[0m\u001b[0;34m:\u001b[0m\u001b[0;34m\u001b[0m\u001b[0;34m\u001b[0m\u001b[0m\n\u001b[0;32m-> 1017\u001b[0;31m         \u001b[0mRE\u001b[0m\u001b[0;34m[\u001b[0m\u001b[0mi\u001b[0m\u001b[0;34m]\u001b[0m \u001b[0;34m=\u001b[0m \u001b[0mrecall_score\u001b[0m\u001b[0;34m(\u001b[0m\u001b[0mx_test_b\u001b[0m\u001b[0;34m[\u001b[0m\u001b[0mi\u001b[0m\u001b[0;34m,\u001b[0m\u001b[0;34m:\u001b[0m\u001b[0;34m]\u001b[0m\u001b[0;34m,\u001b[0m \u001b[0mx_pred_b\u001b[0m\u001b[0;34m[\u001b[0m\u001b[0mi\u001b[0m\u001b[0;34m,\u001b[0m\u001b[0;34m:\u001b[0m\u001b[0;34m]\u001b[0m\u001b[0;34m)\u001b[0m\u001b[0;34m\u001b[0m\u001b[0;34m\u001b[0m\u001b[0m\n\u001b[0m\u001b[1;32m   1018\u001b[0m \u001b[0;34m\u001b[0m\u001b[0m\n\u001b[1;32m   1019\u001b[0m     \u001b[0;32mfor\u001b[0m \u001b[0ms\u001b[0m \u001b[0;32min\u001b[0m \u001b[0mRE\u001b[0m\u001b[0;34m:\u001b[0m\u001b[0;34m\u001b[0m\u001b[0;34m\u001b[0m\u001b[0m\n",
      "\u001b[0;32m/environment/miniconda3/lib/python3.7/site-packages/sklearn/metrics/_classification.py\u001b[0m in \u001b[0;36mrecall_score\u001b[0;34m(y_true, y_pred, labels, pos_label, average, sample_weight, zero_division)\u001b[0m\n\u001b[1;32m   1878\u001b[0m         \u001b[0mwarn_for\u001b[0m\u001b[0;34m=\u001b[0m\u001b[0;34m(\u001b[0m\u001b[0;34m\"recall\"\u001b[0m\u001b[0;34m,\u001b[0m\u001b[0;34m)\u001b[0m\u001b[0;34m,\u001b[0m\u001b[0;34m\u001b[0m\u001b[0;34m\u001b[0m\u001b[0m\n\u001b[1;32m   1879\u001b[0m         \u001b[0msample_weight\u001b[0m\u001b[0;34m=\u001b[0m\u001b[0msample_weight\u001b[0m\u001b[0;34m,\u001b[0m\u001b[0;34m\u001b[0m\u001b[0;34m\u001b[0m\u001b[0m\n\u001b[0;32m-> 1880\u001b[0;31m         \u001b[0mzero_division\u001b[0m\u001b[0;34m=\u001b[0m\u001b[0mzero_division\u001b[0m\u001b[0;34m,\u001b[0m\u001b[0;34m\u001b[0m\u001b[0;34m\u001b[0m\u001b[0m\n\u001b[0m\u001b[1;32m   1881\u001b[0m     )\n\u001b[1;32m   1882\u001b[0m     \u001b[0;32mreturn\u001b[0m \u001b[0mr\u001b[0m\u001b[0;34m\u001b[0m\u001b[0;34m\u001b[0m\u001b[0m\n",
      "\u001b[0;32m/environment/miniconda3/lib/python3.7/site-packages/sklearn/metrics/_classification.py\u001b[0m in \u001b[0;36mprecision_recall_fscore_support\u001b[0;34m(y_true, y_pred, beta, labels, pos_label, average, warn_for, sample_weight, zero_division)\u001b[0m\n\u001b[1;32m   1532\u001b[0m     \u001b[0;32mif\u001b[0m \u001b[0mbeta\u001b[0m \u001b[0;34m<\u001b[0m \u001b[0;36m0\u001b[0m\u001b[0;34m:\u001b[0m\u001b[0;34m\u001b[0m\u001b[0;34m\u001b[0m\u001b[0m\n\u001b[1;32m   1533\u001b[0m         \u001b[0;32mraise\u001b[0m \u001b[0mValueError\u001b[0m\u001b[0;34m(\u001b[0m\u001b[0;34m\"beta should be >=0 in the F-beta score\"\u001b[0m\u001b[0;34m)\u001b[0m\u001b[0;34m\u001b[0m\u001b[0;34m\u001b[0m\u001b[0m\n\u001b[0;32m-> 1534\u001b[0;31m     \u001b[0mlabels\u001b[0m \u001b[0;34m=\u001b[0m \u001b[0m_check_set_wise_labels\u001b[0m\u001b[0;34m(\u001b[0m\u001b[0my_true\u001b[0m\u001b[0;34m,\u001b[0m \u001b[0my_pred\u001b[0m\u001b[0;34m,\u001b[0m \u001b[0maverage\u001b[0m\u001b[0;34m,\u001b[0m \u001b[0mlabels\u001b[0m\u001b[0;34m,\u001b[0m \u001b[0mpos_label\u001b[0m\u001b[0;34m)\u001b[0m\u001b[0;34m\u001b[0m\u001b[0;34m\u001b[0m\u001b[0m\n\u001b[0m\u001b[1;32m   1535\u001b[0m \u001b[0;34m\u001b[0m\u001b[0m\n\u001b[1;32m   1536\u001b[0m     \u001b[0;31m# Calculate tp_sum, pred_sum, true_sum ###\u001b[0m\u001b[0;34m\u001b[0m\u001b[0;34m\u001b[0m\u001b[0;34m\u001b[0m\u001b[0m\n",
      "\u001b[0;32m/environment/miniconda3/lib/python3.7/site-packages/sklearn/metrics/_classification.py\u001b[0m in \u001b[0;36m_check_set_wise_labels\u001b[0;34m(y_true, y_pred, average, labels, pos_label)\u001b[0m\n\u001b[1;32m   1339\u001b[0m     \u001b[0;31m# Convert to Python primitive type to avoid NumPy type / Python str\u001b[0m\u001b[0;34m\u001b[0m\u001b[0;34m\u001b[0m\u001b[0;34m\u001b[0m\u001b[0m\n\u001b[1;32m   1340\u001b[0m     \u001b[0;31m# comparison. See https://github.com/numpy/numpy/issues/6784\u001b[0m\u001b[0;34m\u001b[0m\u001b[0;34m\u001b[0m\u001b[0;34m\u001b[0m\u001b[0m\n\u001b[0;32m-> 1341\u001b[0;31m     \u001b[0mpresent_labels\u001b[0m \u001b[0;34m=\u001b[0m \u001b[0munique_labels\u001b[0m\u001b[0;34m(\u001b[0m\u001b[0my_true\u001b[0m\u001b[0;34m,\u001b[0m \u001b[0my_pred\u001b[0m\u001b[0;34m)\u001b[0m\u001b[0;34m.\u001b[0m\u001b[0mtolist\u001b[0m\u001b[0;34m(\u001b[0m\u001b[0;34m)\u001b[0m\u001b[0;34m\u001b[0m\u001b[0;34m\u001b[0m\u001b[0m\n\u001b[0m\u001b[1;32m   1342\u001b[0m     \u001b[0;32mif\u001b[0m \u001b[0maverage\u001b[0m \u001b[0;34m==\u001b[0m \u001b[0;34m\"binary\"\u001b[0m\u001b[0;34m:\u001b[0m\u001b[0;34m\u001b[0m\u001b[0;34m\u001b[0m\u001b[0m\n\u001b[1;32m   1343\u001b[0m         \u001b[0;32mif\u001b[0m \u001b[0my_type\u001b[0m \u001b[0;34m==\u001b[0m \u001b[0;34m\"binary\"\u001b[0m\u001b[0;34m:\u001b[0m\u001b[0;34m\u001b[0m\u001b[0;34m\u001b[0m\u001b[0m\n",
      "\u001b[0;32m/environment/miniconda3/lib/python3.7/site-packages/sklearn/utils/multiclass.py\u001b[0m in \u001b[0;36munique_labels\u001b[0;34m(*ys)\u001b[0m\n\u001b[1;32m     74\u001b[0m     \u001b[0;31m# Check that we don't mix label format\u001b[0m\u001b[0;34m\u001b[0m\u001b[0;34m\u001b[0m\u001b[0;34m\u001b[0m\u001b[0m\n\u001b[1;32m     75\u001b[0m \u001b[0;34m\u001b[0m\u001b[0m\n\u001b[0;32m---> 76\u001b[0;31m     \u001b[0mys_types\u001b[0m \u001b[0;34m=\u001b[0m \u001b[0mset\u001b[0m\u001b[0;34m(\u001b[0m\u001b[0mtype_of_target\u001b[0m\u001b[0;34m(\u001b[0m\u001b[0mx\u001b[0m\u001b[0;34m)\u001b[0m \u001b[0;32mfor\u001b[0m \u001b[0mx\u001b[0m \u001b[0;32min\u001b[0m \u001b[0mys\u001b[0m\u001b[0;34m)\u001b[0m\u001b[0;34m\u001b[0m\u001b[0;34m\u001b[0m\u001b[0m\n\u001b[0m\u001b[1;32m     77\u001b[0m     \u001b[0;32mif\u001b[0m \u001b[0mys_types\u001b[0m \u001b[0;34m==\u001b[0m \u001b[0;34m{\u001b[0m\u001b[0;34m\"binary\"\u001b[0m\u001b[0;34m,\u001b[0m \u001b[0;34m\"multiclass\"\u001b[0m\u001b[0;34m}\u001b[0m\u001b[0;34m:\u001b[0m\u001b[0;34m\u001b[0m\u001b[0;34m\u001b[0m\u001b[0m\n\u001b[1;32m     78\u001b[0m         \u001b[0mys_types\u001b[0m \u001b[0;34m=\u001b[0m \u001b[0;34m{\u001b[0m\u001b[0;34m\"multiclass\"\u001b[0m\u001b[0;34m}\u001b[0m\u001b[0;34m\u001b[0m\u001b[0;34m\u001b[0m\u001b[0m\n",
      "\u001b[0;32m/environment/miniconda3/lib/python3.7/site-packages/sklearn/utils/multiclass.py\u001b[0m in \u001b[0;36m<genexpr>\u001b[0;34m(.0)\u001b[0m\n\u001b[1;32m     74\u001b[0m     \u001b[0;31m# Check that we don't mix label format\u001b[0m\u001b[0;34m\u001b[0m\u001b[0;34m\u001b[0m\u001b[0;34m\u001b[0m\u001b[0m\n\u001b[1;32m     75\u001b[0m \u001b[0;34m\u001b[0m\u001b[0m\n\u001b[0;32m---> 76\u001b[0;31m     \u001b[0mys_types\u001b[0m \u001b[0;34m=\u001b[0m \u001b[0mset\u001b[0m\u001b[0;34m(\u001b[0m\u001b[0mtype_of_target\u001b[0m\u001b[0;34m(\u001b[0m\u001b[0mx\u001b[0m\u001b[0;34m)\u001b[0m \u001b[0;32mfor\u001b[0m \u001b[0mx\u001b[0m \u001b[0;32min\u001b[0m \u001b[0mys\u001b[0m\u001b[0;34m)\u001b[0m\u001b[0;34m\u001b[0m\u001b[0;34m\u001b[0m\u001b[0m\n\u001b[0m\u001b[1;32m     77\u001b[0m     \u001b[0;32mif\u001b[0m \u001b[0mys_types\u001b[0m \u001b[0;34m==\u001b[0m \u001b[0;34m{\u001b[0m\u001b[0;34m\"binary\"\u001b[0m\u001b[0;34m,\u001b[0m \u001b[0;34m\"multiclass\"\u001b[0m\u001b[0;34m}\u001b[0m\u001b[0;34m:\u001b[0m\u001b[0;34m\u001b[0m\u001b[0;34m\u001b[0m\u001b[0m\n\u001b[1;32m     78\u001b[0m         \u001b[0mys_types\u001b[0m \u001b[0;34m=\u001b[0m \u001b[0;34m{\u001b[0m\u001b[0;34m\"multiclass\"\u001b[0m\u001b[0;34m}\u001b[0m\u001b[0;34m\u001b[0m\u001b[0;34m\u001b[0m\u001b[0m\n",
      "\u001b[0;32m/environment/miniconda3/lib/python3.7/site-packages/sklearn/utils/multiclass.py\u001b[0m in \u001b[0;36mtype_of_target\u001b[0;34m(y)\u001b[0m\n\u001b[1;32m    326\u001b[0m         \u001b[0;32mreturn\u001b[0m \u001b[0;34m\"continuous\"\u001b[0m \u001b[0;34m+\u001b[0m \u001b[0msuffix\u001b[0m\u001b[0;34m\u001b[0m\u001b[0;34m\u001b[0m\u001b[0m\n\u001b[1;32m    327\u001b[0m \u001b[0;34m\u001b[0m\u001b[0m\n\u001b[0;32m--> 328\u001b[0;31m     \u001b[0;32mif\u001b[0m \u001b[0;34m(\u001b[0m\u001b[0mlen\u001b[0m\u001b[0;34m(\u001b[0m\u001b[0mnp\u001b[0m\u001b[0;34m.\u001b[0m\u001b[0munique\u001b[0m\u001b[0;34m(\u001b[0m\u001b[0my\u001b[0m\u001b[0;34m)\u001b[0m\u001b[0;34m)\u001b[0m \u001b[0;34m>\u001b[0m \u001b[0;36m2\u001b[0m\u001b[0;34m)\u001b[0m \u001b[0;32mor\u001b[0m \u001b[0;34m(\u001b[0m\u001b[0my\u001b[0m\u001b[0;34m.\u001b[0m\u001b[0mndim\u001b[0m \u001b[0;34m>=\u001b[0m \u001b[0;36m2\u001b[0m \u001b[0;32mand\u001b[0m \u001b[0mlen\u001b[0m\u001b[0;34m(\u001b[0m\u001b[0my\u001b[0m\u001b[0;34m[\u001b[0m\u001b[0;36m0\u001b[0m\u001b[0;34m]\u001b[0m\u001b[0;34m)\u001b[0m \u001b[0;34m>\u001b[0m \u001b[0;36m1\u001b[0m\u001b[0;34m)\u001b[0m\u001b[0;34m:\u001b[0m\u001b[0;34m\u001b[0m\u001b[0;34m\u001b[0m\u001b[0m\n\u001b[0m\u001b[1;32m    329\u001b[0m         \u001b[0;32mreturn\u001b[0m \u001b[0;34m\"multiclass\"\u001b[0m \u001b[0;34m+\u001b[0m \u001b[0msuffix\u001b[0m  \u001b[0;31m# [1, 2, 3] or [[1., 2., 3]] or [[1, 2]]\u001b[0m\u001b[0;34m\u001b[0m\u001b[0;34m\u001b[0m\u001b[0m\n\u001b[1;32m    330\u001b[0m     \u001b[0;32melse\u001b[0m\u001b[0;34m:\u001b[0m\u001b[0;34m\u001b[0m\u001b[0;34m\u001b[0m\u001b[0m\n",
      "\u001b[0;32m<__array_function__ internals>\u001b[0m in \u001b[0;36munique\u001b[0;34m(*args, **kwargs)\u001b[0m\n",
      "\u001b[0;32m/environment/miniconda3/lib/python3.7/site-packages/numpy/lib/arraysetops.py\u001b[0m in \u001b[0;36munique\u001b[0;34m(ar, return_index, return_inverse, return_counts, axis)\u001b[0m\n\u001b[1;32m    270\u001b[0m     \u001b[0mar\u001b[0m \u001b[0;34m=\u001b[0m \u001b[0mnp\u001b[0m\u001b[0;34m.\u001b[0m\u001b[0masanyarray\u001b[0m\u001b[0;34m(\u001b[0m\u001b[0mar\u001b[0m\u001b[0;34m)\u001b[0m\u001b[0;34m\u001b[0m\u001b[0;34m\u001b[0m\u001b[0m\n\u001b[1;32m    271\u001b[0m     \u001b[0;32mif\u001b[0m \u001b[0maxis\u001b[0m \u001b[0;32mis\u001b[0m \u001b[0;32mNone\u001b[0m\u001b[0;34m:\u001b[0m\u001b[0;34m\u001b[0m\u001b[0;34m\u001b[0m\u001b[0m\n\u001b[0;32m--> 272\u001b[0;31m         \u001b[0mret\u001b[0m \u001b[0;34m=\u001b[0m \u001b[0m_unique1d\u001b[0m\u001b[0;34m(\u001b[0m\u001b[0mar\u001b[0m\u001b[0;34m,\u001b[0m \u001b[0mreturn_index\u001b[0m\u001b[0;34m,\u001b[0m \u001b[0mreturn_inverse\u001b[0m\u001b[0;34m,\u001b[0m \u001b[0mreturn_counts\u001b[0m\u001b[0;34m)\u001b[0m\u001b[0;34m\u001b[0m\u001b[0;34m\u001b[0m\u001b[0m\n\u001b[0m\u001b[1;32m    273\u001b[0m         \u001b[0;32mreturn\u001b[0m \u001b[0m_unpack_tuple\u001b[0m\u001b[0;34m(\u001b[0m\u001b[0mret\u001b[0m\u001b[0;34m)\u001b[0m\u001b[0;34m\u001b[0m\u001b[0;34m\u001b[0m\u001b[0m\n\u001b[1;32m    274\u001b[0m \u001b[0;34m\u001b[0m\u001b[0m\n",
      "\u001b[0;32m/environment/miniconda3/lib/python3.7/site-packages/numpy/lib/arraysetops.py\u001b[0m in \u001b[0;36m_unique1d\u001b[0;34m(ar, return_index, return_inverse, return_counts)\u001b[0m\n\u001b[1;32m    331\u001b[0m         \u001b[0maux\u001b[0m \u001b[0;34m=\u001b[0m \u001b[0mar\u001b[0m\u001b[0;34m[\u001b[0m\u001b[0mperm\u001b[0m\u001b[0;34m]\u001b[0m\u001b[0;34m\u001b[0m\u001b[0;34m\u001b[0m\u001b[0m\n\u001b[1;32m    332\u001b[0m     \u001b[0;32melse\u001b[0m\u001b[0;34m:\u001b[0m\u001b[0;34m\u001b[0m\u001b[0;34m\u001b[0m\u001b[0m\n\u001b[0;32m--> 333\u001b[0;31m         \u001b[0mar\u001b[0m\u001b[0;34m.\u001b[0m\u001b[0msort\u001b[0m\u001b[0;34m(\u001b[0m\u001b[0;34m)\u001b[0m\u001b[0;34m\u001b[0m\u001b[0;34m\u001b[0m\u001b[0m\n\u001b[0m\u001b[1;32m    334\u001b[0m         \u001b[0maux\u001b[0m \u001b[0;34m=\u001b[0m \u001b[0mar\u001b[0m\u001b[0;34m\u001b[0m\u001b[0;34m\u001b[0m\u001b[0m\n\u001b[1;32m    335\u001b[0m     \u001b[0mmask\u001b[0m \u001b[0;34m=\u001b[0m \u001b[0mnp\u001b[0m\u001b[0;34m.\u001b[0m\u001b[0mempty\u001b[0m\u001b[0;34m(\u001b[0m\u001b[0maux\u001b[0m\u001b[0;34m.\u001b[0m\u001b[0mshape\u001b[0m\u001b[0;34m,\u001b[0m \u001b[0mdtype\u001b[0m\u001b[0;34m=\u001b[0m\u001b[0mnp\u001b[0m\u001b[0;34m.\u001b[0m\u001b[0mbool_\u001b[0m\u001b[0;34m)\u001b[0m\u001b[0;34m\u001b[0m\u001b[0;34m\u001b[0m\u001b[0m\n",
      "\u001b[0;31mKeyboardInterrupt\u001b[0m: "
     ]
    }
   ],
   "source": [
    "MAE_run = []\n",
    "ACC_run =[]\n",
    "PR_run = []\n",
    "RE_run = []\n",
    "F1_run = []\n",
    "SAE_run = []\n",
    "FEE_run = []\n",
    "#for r in range(1, nilm[\"run\"]+1):\n",
    "for r in range(1, 11):   \n",
    "    x_total = []\n",
    "    y_total_pred = []\n",
    "    y_total_true = []\n",
    "    \n",
    "    #data = np.load(\"../../data/NILM/{}/ukdale/{}/logs/model/House_{}/{}/pred_{}.npy\".format(name, nilm[\"model\"], nilm[\"dataset\"][\"test\"][\"house\"][0], time, r),encoding = \"latin1\",allow_pickle=True)\n",
    "    data = np.load(\"../../data/NILM/NILM_Disag_Microwave/ukdale/VAE/logs/model/House_12/20220714-120424/pred_1.npy\")\n",
    "    x_total = data[0]\n",
    "    y_total_pred = data[1]\n",
    "    y_total_true = data[2]\n",
    "  \n",
    "    MAE_tot, MAE_app, MAE = MAE_metric(y_total_pred, y_total_true, disaggregation=True, only_power_on=False)\n",
    "    acc_P_tot, acc_P_app, acc_P = acc_Power(y_total_pred, y_total_true, disaggregation=True)\n",
    "    # PR_app = PR_metric(y_total_pred, y_total_true, thr=thr_house_2[nilm[\"appliance\"]])\n",
    "    # RE_app = RE_metric(y_total_pred, y_total_true, thr=thr_house_2[nilm[\"appliance\"]])\n",
    "    # F1_app = F1_metric(y_total_pred, y_total_true, thr=thr_house_2[nilm[\"appliance\"]])\n",
    "    PR_app = PR_metric(y_total_pred, y_total_true, thr=thr_house_2[\"computerMonitor\"])\n",
    "    RE_app = RE_metric(y_total_pred, y_total_true, thr=thr_house_2[\"computerMonitor\"])\n",
    "    F1_app = F1_metric(y_total_pred, y_total_true, thr=thr_house_2[\"computerMonitor\"])\n",
    "    SAE_app = SAE_metric(y_total_pred, y_total_true)\n",
    "    FEE_app = FEE_metric(y_total_pred, y_total_true)\n",
    "    print(FEE_app)\n",
    "    if (np.isnan(acc_P_tot)) or (F1_app[0] == 0):\n",
    "        print(\"Error Detected\")\n",
    "    else:\n",
    "        MAE_run.append(MAE_tot)\n",
    "        ACC_run.append(acc_P_tot)\n",
    "        PR_run.append(PR_app[0])\n",
    "        RE_run.append(RE_app[0])\n",
    "        F1_run.append(F1_app[0])\n",
    "        SAE_run.append(SAE_app[0])\n",
    "        FEE_run.append(FEE_app[0])\n",
    "\n",
    "print(np.mean(MAE_run), np.std(MAE_run))\n",
    "print(np.mean(ACC_run), np.std(ACC_run))\n",
    "print(np.mean(PR_run), np.std(PR_run))\n",
    "print(np.mean(RE_run), np.std(RE_run))\n",
    "print(np.mean(F1_run), np.std(F1_run))\n",
    "print(np.mean(SAE_run), np.std(SAE_run))\n",
    "print(np.mean(FEE_run), np.std(FEE_run))\n",
    "\n",
    "#np.save(\"../../data/NILM/{}/ukdale/{}/logs/model/House_{}/{}/results_median.npy\".format(name, nilm[\"model\"], nilm[\"dataset\"][\"test\"][\"house\"][0], time), [MAE_run, ACC_run, PR_run, RE_run, F1_run, SAE_run, FEE_run])"
   ]
  },
  {
   "cell_type": "code",
   "execution_count": null,
   "id": "adca067b-f67c-4d51-8fd9-d52bdd6930c2",
   "metadata": {},
   "outputs": [],
   "source": []
  }
 ],
 "metadata": {
  "kernelspec": {
   "display_name": "Python 3 (ipykernel)",
   "language": "python",
   "name": "python3"
  },
  "language_info": {
   "codemirror_mode": {
    "name": "ipython",
    "version": 3
   },
   "file_extension": ".py",
   "mimetype": "text/x-python",
   "name": "python",
   "nbconvert_exporter": "python",
   "pygments_lexer": "ipython3",
   "version": "3.7.10"
  }
 },
 "nbformat": 4,
 "nbformat_minor": 5
}
