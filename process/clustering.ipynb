{
 "cells": [
  {
   "cell_type": "code",
   "execution_count": 4,
   "id": "965c253e",
   "metadata": {},
   "outputs": [],
   "source": [
    "from __future__ import print_function, division\n",
    "import time\n",
    "\n",
    "from matplotlib import rcParams\n",
    "import matplotlib.pyplot as plt\n",
    "import pandas as pd\n",
    "import numpy as np\n",
    "from six import iteritems\n",
    "\n",
    "# from nilmtk import DataSet, TimeFrame, MeterGroup, HDFDataStore\n",
    "# from nilmtk.legacy.disaggregate import CombinatorialOptimisation, FHMM\n",
    "# import nilmtk.utils\n",
    "# import nilmtk"
   ]
  },
  {
   "cell_type": "code",
   "execution_count": 5,
   "id": "83f8a4f6",
   "metadata": {},
   "outputs": [],
   "source": [
    "####导出后到readDat.ipynb中读取####以上为平滑结束\n",
    "###以下为聚类方法适合分两类的（中间状态可忽略的[实际是三类]）"
   ]
  },
  {
   "cell_type": "code",
   "execution_count": 20,
   "id": "47a00888",
   "metadata": {},
   "outputs": [
    {
     "name": "stdout",
     "output_type": "stream",
     "text": [
      "[[1.40405903e+09 0.00000000e+00]\n",
      " [1.40405904e+09 0.00000000e+00]\n",
      " [1.40405905e+09 0.00000000e+00]\n",
      " ...\n",
      " [1.41271569e+09 0.00000000e+00]\n",
      " [1.41271570e+09 0.00000000e+00]\n",
      " [1.41271571e+09 0.00000000e+00]]\n"
     ]
    }
   ],
   "source": [
    "import numpy as np\n",
    "test=np.load('../../data/house_51/ElectricOven_appliance.npy', encoding = \"latin1\",allow_pickle=True) #加载文件\n",
    "print(test)"
   ]
  },
  {
   "cell_type": "code",
   "execution_count": 21,
   "id": "3184d612",
   "metadata": {
    "scrolled": true
   },
   "outputs": [
    {
     "data": {
      "text/html": [
       "<div>\n",
       "<style scoped>\n",
       "    .dataframe tbody tr th:only-of-type {\n",
       "        vertical-align: middle;\n",
       "    }\n",
       "\n",
       "    .dataframe tbody tr th {\n",
       "        vertical-align: top;\n",
       "    }\n",
       "\n",
       "    .dataframe thead th {\n",
       "        text-align: right;\n",
       "    }\n",
       "</style>\n",
       "<table border=\"1\" class=\"dataframe\">\n",
       "  <thead>\n",
       "    <tr style=\"text-align: right;\">\n",
       "      <th></th>\n",
       "      <th>0</th>\n",
       "      <th>1</th>\n",
       "    </tr>\n",
       "  </thead>\n",
       "  <tbody>\n",
       "    <tr>\n",
       "      <th>0</th>\n",
       "      <td>1404059030</td>\n",
       "      <td>0.0</td>\n",
       "    </tr>\n",
       "    <tr>\n",
       "      <th>1</th>\n",
       "      <td>1404059040</td>\n",
       "      <td>0.0</td>\n",
       "    </tr>\n",
       "    <tr>\n",
       "      <th>2</th>\n",
       "      <td>1404059050</td>\n",
       "      <td>0.0</td>\n",
       "    </tr>\n",
       "    <tr>\n",
       "      <th>3</th>\n",
       "      <td>1404059060</td>\n",
       "      <td>0.0</td>\n",
       "    </tr>\n",
       "    <tr>\n",
       "      <th>4</th>\n",
       "      <td>1404059070</td>\n",
       "      <td>0.0</td>\n",
       "    </tr>\n",
       "    <tr>\n",
       "      <th>...</th>\n",
       "      <td>...</td>\n",
       "      <td>...</td>\n",
       "    </tr>\n",
       "    <tr>\n",
       "      <th>850926</th>\n",
       "      <td>1412715670</td>\n",
       "      <td>0.0</td>\n",
       "    </tr>\n",
       "    <tr>\n",
       "      <th>850927</th>\n",
       "      <td>1412715680</td>\n",
       "      <td>0.0</td>\n",
       "    </tr>\n",
       "    <tr>\n",
       "      <th>850928</th>\n",
       "      <td>1412715690</td>\n",
       "      <td>0.0</td>\n",
       "    </tr>\n",
       "    <tr>\n",
       "      <th>850929</th>\n",
       "      <td>1412715700</td>\n",
       "      <td>0.0</td>\n",
       "    </tr>\n",
       "    <tr>\n",
       "      <th>850930</th>\n",
       "      <td>1412715710</td>\n",
       "      <td>0.0</td>\n",
       "    </tr>\n",
       "  </tbody>\n",
       "</table>\n",
       "<p>850931 rows × 2 columns</p>\n",
       "</div>"
      ],
      "text/plain": [
       "                 0    1\n",
       "0       1404059030  0.0\n",
       "1       1404059040  0.0\n",
       "2       1404059050  0.0\n",
       "3       1404059060  0.0\n",
       "4       1404059070  0.0\n",
       "...            ...  ...\n",
       "850926  1412715670  0.0\n",
       "850927  1412715680  0.0\n",
       "850928  1412715690  0.0\n",
       "850929  1412715700  0.0\n",
       "850930  1412715710  0.0\n",
       "\n",
       "[850931 rows x 2 columns]"
      ]
     },
     "execution_count": 21,
     "metadata": {},
     "output_type": "execute_result"
    }
   ],
   "source": [
    "train_df1 = pd.DataFrame(test)\n",
    "train_df1[0]=train_df1[0].astype(int)\n",
    "train_df1"
   ]
  },
  {
   "cell_type": "code",
   "execution_count": 22,
   "id": "aba0bbdd",
   "metadata": {},
   "outputs": [
    {
     "data": {
      "text/html": [
       "<div>\n",
       "<style scoped>\n",
       "    .dataframe tbody tr th:only-of-type {\n",
       "        vertical-align: middle;\n",
       "    }\n",
       "\n",
       "    .dataframe tbody tr th {\n",
       "        vertical-align: top;\n",
       "    }\n",
       "\n",
       "    .dataframe thead th {\n",
       "        text-align: right;\n",
       "    }\n",
       "</style>\n",
       "<table border=\"1\" class=\"dataframe\">\n",
       "  <thead>\n",
       "    <tr style=\"text-align: right;\">\n",
       "      <th></th>\n",
       "      <th>time</th>\n",
       "      <th>smooth</th>\n",
       "    </tr>\n",
       "  </thead>\n",
       "  <tbody>\n",
       "    <tr>\n",
       "      <th>0</th>\n",
       "      <td>1404059030</td>\n",
       "      <td>0.0</td>\n",
       "    </tr>\n",
       "    <tr>\n",
       "      <th>1</th>\n",
       "      <td>1404059040</td>\n",
       "      <td>0.0</td>\n",
       "    </tr>\n",
       "    <tr>\n",
       "      <th>2</th>\n",
       "      <td>1404059050</td>\n",
       "      <td>0.0</td>\n",
       "    </tr>\n",
       "    <tr>\n",
       "      <th>3</th>\n",
       "      <td>1404059060</td>\n",
       "      <td>0.0</td>\n",
       "    </tr>\n",
       "    <tr>\n",
       "      <th>4</th>\n",
       "      <td>1404059070</td>\n",
       "      <td>0.0</td>\n",
       "    </tr>\n",
       "    <tr>\n",
       "      <th>...</th>\n",
       "      <td>...</td>\n",
       "      <td>...</td>\n",
       "    </tr>\n",
       "    <tr>\n",
       "      <th>850926</th>\n",
       "      <td>1412715670</td>\n",
       "      <td>0.0</td>\n",
       "    </tr>\n",
       "    <tr>\n",
       "      <th>850927</th>\n",
       "      <td>1412715680</td>\n",
       "      <td>0.0</td>\n",
       "    </tr>\n",
       "    <tr>\n",
       "      <th>850928</th>\n",
       "      <td>1412715690</td>\n",
       "      <td>0.0</td>\n",
       "    </tr>\n",
       "    <tr>\n",
       "      <th>850929</th>\n",
       "      <td>1412715700</td>\n",
       "      <td>0.0</td>\n",
       "    </tr>\n",
       "    <tr>\n",
       "      <th>850930</th>\n",
       "      <td>1412715710</td>\n",
       "      <td>0.0</td>\n",
       "    </tr>\n",
       "  </tbody>\n",
       "</table>\n",
       "<p>850931 rows × 2 columns</p>\n",
       "</div>"
      ],
      "text/plain": [
       "              time  smooth\n",
       "0       1404059030     0.0\n",
       "1       1404059040     0.0\n",
       "2       1404059050     0.0\n",
       "3       1404059060     0.0\n",
       "4       1404059070     0.0\n",
       "...            ...     ...\n",
       "850926  1412715670     0.0\n",
       "850927  1412715680     0.0\n",
       "850928  1412715690     0.0\n",
       "850929  1412715700     0.0\n",
       "850930  1412715710     0.0\n",
       "\n",
       "[850931 rows x 2 columns]"
      ]
     },
     "execution_count": 22,
     "metadata": {},
     "output_type": "execute_result"
    }
   ],
   "source": [
    "train_df1.columns=['time','smooth']\n",
    "train_df1"
   ]
  },
  {
   "cell_type": "code",
   "execution_count": 23,
   "id": "7a951b00",
   "metadata": {},
   "outputs": [
    {
     "data": {
      "text/html": [
       "<div>\n",
       "<style scoped>\n",
       "    .dataframe tbody tr th:only-of-type {\n",
       "        vertical-align: middle;\n",
       "    }\n",
       "\n",
       "    .dataframe tbody tr th {\n",
       "        vertical-align: top;\n",
       "    }\n",
       "\n",
       "    .dataframe thead th {\n",
       "        text-align: right;\n",
       "    }\n",
       "</style>\n",
       "<table border=\"1\" class=\"dataframe\">\n",
       "  <thead>\n",
       "    <tr style=\"text-align: right;\">\n",
       "      <th></th>\n",
       "      <th>smooth</th>\n",
       "    </tr>\n",
       "    <tr>\n",
       "      <th>time</th>\n",
       "      <th></th>\n",
       "    </tr>\n",
       "  </thead>\n",
       "  <tbody>\n",
       "    <tr>\n",
       "      <th>1404059030</th>\n",
       "      <td>0.0</td>\n",
       "    </tr>\n",
       "    <tr>\n",
       "      <th>1404059040</th>\n",
       "      <td>0.0</td>\n",
       "    </tr>\n",
       "    <tr>\n",
       "      <th>1404059050</th>\n",
       "      <td>0.0</td>\n",
       "    </tr>\n",
       "    <tr>\n",
       "      <th>1404059060</th>\n",
       "      <td>0.0</td>\n",
       "    </tr>\n",
       "    <tr>\n",
       "      <th>1404059070</th>\n",
       "      <td>0.0</td>\n",
       "    </tr>\n",
       "    <tr>\n",
       "      <th>...</th>\n",
       "      <td>...</td>\n",
       "    </tr>\n",
       "    <tr>\n",
       "      <th>1412715670</th>\n",
       "      <td>0.0</td>\n",
       "    </tr>\n",
       "    <tr>\n",
       "      <th>1412715680</th>\n",
       "      <td>0.0</td>\n",
       "    </tr>\n",
       "    <tr>\n",
       "      <th>1412715690</th>\n",
       "      <td>0.0</td>\n",
       "    </tr>\n",
       "    <tr>\n",
       "      <th>1412715700</th>\n",
       "      <td>0.0</td>\n",
       "    </tr>\n",
       "    <tr>\n",
       "      <th>1412715710</th>\n",
       "      <td>0.0</td>\n",
       "    </tr>\n",
       "  </tbody>\n",
       "</table>\n",
       "<p>850931 rows × 1 columns</p>\n",
       "</div>"
      ],
      "text/plain": [
       "            smooth\n",
       "time              \n",
       "1404059030     0.0\n",
       "1404059040     0.0\n",
       "1404059050     0.0\n",
       "1404059060     0.0\n",
       "1404059070     0.0\n",
       "...            ...\n",
       "1412715670     0.0\n",
       "1412715680     0.0\n",
       "1412715690     0.0\n",
       "1412715700     0.0\n",
       "1412715710     0.0\n",
       "\n",
       "[850931 rows x 1 columns]"
      ]
     },
     "execution_count": 23,
     "metadata": {},
     "output_type": "execute_result"
    }
   ],
   "source": [
    "train_df2 = train_df1\n",
    "train_df2 = train_df2.set_index(train_df1[\"time\"],drop=True)\n",
    "train_df2 = train_df2.drop([\"time\"],axis=1)\n",
    "train_df2"
   ]
  },
  {
   "cell_type": "code",
   "execution_count": 24,
   "id": "0ce68514",
   "metadata": {
    "scrolled": true
   },
   "outputs": [
    {
     "data": {
      "text/plain": [
       "<AxesSubplot:xlabel='time'>"
      ]
     },
     "execution_count": 24,
     "metadata": {},
     "output_type": "execute_result"
    },
    {
     "data": {
      "image/png": "[encoded data removed]",
      "text/plain": [
       "<Figure size 1440x432 with 1 Axes>"
      ]
     },
     "metadata": {
      "needs_background": "light"
     },
     "output_type": "display_data"
    }
   ],
   "source": [
    "train_df2.plot(figsize=(20,6))"
   ]
  },
  {
   "cell_type": "code",
   "execution_count": 28,
   "id": "0e2674cc",
   "metadata": {},
   "outputs": [
    {
     "data": {
      "text/plain": [
       "<AxesSubplot:xlabel='time'>"
      ]
     },
     "execution_count": 28,
     "metadata": {},
     "output_type": "execute_result"
    },
    {
     "data": {
      "image/png": "[encoded data removed]",
      "text/plain": [
       "<Figure size 1440x432 with 1 Axes>"
      ]
     },
     "metadata": {
      "needs_background": "light"
     },
     "output_type": "display_data"
    }
   ],
   "source": [
    "test2 = train_df2.iloc[0:2136,:1]\n",
    "test2.plot(figsize=(20,6))"
   ]
  },
  {
   "cell_type": "code",
   "execution_count": 35,
   "id": "a7eaa9a6",
   "metadata": {},
   "outputs": [
    {
     "data": {
      "text/html": [
       "<div>\n",
       "<style scoped>\n",
       "    .dataframe tbody tr th:only-of-type {\n",
       "        vertical-align: middle;\n",
       "    }\n",
       "\n",
       "    .dataframe tbody tr th {\n",
       "        vertical-align: top;\n",
       "    }\n",
       "\n",
       "    .dataframe thead th {\n",
       "        text-align: right;\n",
       "    }\n",
       "</style>\n",
       "<table border=\"1\" class=\"dataframe\">\n",
       "  <thead>\n",
       "    <tr style=\"text-align: right;\">\n",
       "      <th></th>\n",
       "      <th>index</th>\n",
       "      <th>time</th>\n",
       "      <th>smooth</th>\n",
       "      <th>Voltage</th>\n",
       "      <th>sy</th>\n",
       "    </tr>\n",
       "  </thead>\n",
       "  <tbody>\n",
       "    <tr>\n",
       "      <th>0</th>\n",
       "      <td>0</td>\n",
       "      <td>1404059030</td>\n",
       "      <td>0.0</td>\n",
       "      <td>110.0</td>\n",
       "      <td>0</td>\n",
       "    </tr>\n",
       "    <tr>\n",
       "      <th>1</th>\n",
       "      <td>1</td>\n",
       "      <td>1404059040</td>\n",
       "      <td>0.0</td>\n",
       "      <td>110.0</td>\n",
       "      <td>1</td>\n",
       "    </tr>\n",
       "    <tr>\n",
       "      <th>2</th>\n",
       "      <td>2</td>\n",
       "      <td>1404059050</td>\n",
       "      <td>0.0</td>\n",
       "      <td>110.0</td>\n",
       "      <td>2</td>\n",
       "    </tr>\n",
       "    <tr>\n",
       "      <th>3</th>\n",
       "      <td>3</td>\n",
       "      <td>1404059060</td>\n",
       "      <td>0.0</td>\n",
       "      <td>110.0</td>\n",
       "      <td>3</td>\n",
       "    </tr>\n",
       "    <tr>\n",
       "      <th>4</th>\n",
       "      <td>4</td>\n",
       "      <td>1404059070</td>\n",
       "      <td>0.0</td>\n",
       "      <td>110.0</td>\n",
       "      <td>4</td>\n",
       "    </tr>\n",
       "    <tr>\n",
       "      <th>...</th>\n",
       "      <td>...</td>\n",
       "      <td>...</td>\n",
       "      <td>...</td>\n",
       "      <td>...</td>\n",
       "      <td>...</td>\n",
       "    </tr>\n",
       "    <tr>\n",
       "      <th>850926</th>\n",
       "      <td>850926</td>\n",
       "      <td>1412715670</td>\n",
       "      <td>0.0</td>\n",
       "      <td>110.0</td>\n",
       "      <td>850926</td>\n",
       "    </tr>\n",
       "    <tr>\n",
       "      <th>850927</th>\n",
       "      <td>850927</td>\n",
       "      <td>1412715680</td>\n",
       "      <td>0.0</td>\n",
       "      <td>110.0</td>\n",
       "      <td>850927</td>\n",
       "    </tr>\n",
       "    <tr>\n",
       "      <th>850928</th>\n",
       "      <td>850928</td>\n",
       "      <td>1412715690</td>\n",
       "      <td>0.0</td>\n",
       "      <td>110.0</td>\n",
       "      <td>850928</td>\n",
       "    </tr>\n",
       "    <tr>\n",
       "      <th>850929</th>\n",
       "      <td>850929</td>\n",
       "      <td>1412715700</td>\n",
       "      <td>0.0</td>\n",
       "      <td>110.0</td>\n",
       "      <td>850929</td>\n",
       "    </tr>\n",
       "    <tr>\n",
       "      <th>850930</th>\n",
       "      <td>850930</td>\n",
       "      <td>1412715710</td>\n",
       "      <td>0.0</td>\n",
       "      <td>110.0</td>\n",
       "      <td>850930</td>\n",
       "    </tr>\n",
       "  </tbody>\n",
       "</table>\n",
       "<p>850931 rows × 5 columns</p>\n",
       "</div>"
      ],
      "text/plain": [
       "         index        time  smooth  Voltage      sy\n",
       "0            0  1404059030     0.0    110.0       0\n",
       "1            1  1404059040     0.0    110.0       1\n",
       "2            2  1404059050     0.0    110.0       2\n",
       "3            3  1404059060     0.0    110.0       3\n",
       "4            4  1404059070     0.0    110.0       4\n",
       "...        ...         ...     ...      ...     ...\n",
       "850926  850926  1412715670     0.0    110.0  850926\n",
       "850927  850927  1412715680     0.0    110.0  850927\n",
       "850928  850928  1412715690     0.0    110.0  850928\n",
       "850929  850929  1412715700     0.0    110.0  850929\n",
       "850930  850930  1412715710     0.0    110.0  850930\n",
       "\n",
       "[850931 rows x 5 columns]"
      ]
     },
     "execution_count": 35,
     "metadata": {},
     "output_type": "execute_result"
    }
   ],
   "source": [
    "train_df1['Voltage']=110.0#添加电压用于聚类\n",
    "train_fridge_df2=train_df1\n",
    "train_fridge_df2=train_df1.reset_index()#为防止时间序列乱序，后期用于排序\n",
    "train_fridge_df2['sy']=train_df1.index.values#为防止时间序列乱序，后期用于排序\n",
    "train_fridge_df2"
   ]
  },
  {
   "cell_type": "code",
   "execution_count": 36,
   "id": "1586004e",
   "metadata": {},
   "outputs": [
    {
     "data": {
      "text/html": [
       "<div>\n",
       "<style scoped>\n",
       "    .dataframe tbody tr th:only-of-type {\n",
       "        vertical-align: middle;\n",
       "    }\n",
       "\n",
       "    .dataframe tbody tr th {\n",
       "        vertical-align: top;\n",
       "    }\n",
       "\n",
       "    .dataframe thead th {\n",
       "        text-align: right;\n",
       "    }\n",
       "</style>\n",
       "<table border=\"1\" class=\"dataframe\">\n",
       "  <thead>\n",
       "    <tr style=\"text-align: right;\">\n",
       "      <th></th>\n",
       "      <th>smooth</th>\n",
       "      <th>Voltage</th>\n",
       "      <th>sy</th>\n",
       "    </tr>\n",
       "  </thead>\n",
       "  <tbody>\n",
       "    <tr>\n",
       "      <th>2045</th>\n",
       "      <td>0.0</td>\n",
       "      <td>110.0</td>\n",
       "      <td>2045</td>\n",
       "    </tr>\n",
       "    <tr>\n",
       "      <th>2046</th>\n",
       "      <td>0.0</td>\n",
       "      <td>110.0</td>\n",
       "      <td>2046</td>\n",
       "    </tr>\n",
       "    <tr>\n",
       "      <th>2047</th>\n",
       "      <td>0.0</td>\n",
       "      <td>110.0</td>\n",
       "      <td>2047</td>\n",
       "    </tr>\n",
       "    <tr>\n",
       "      <th>2048</th>\n",
       "      <td>0.0</td>\n",
       "      <td>110.0</td>\n",
       "      <td>2048</td>\n",
       "    </tr>\n",
       "    <tr>\n",
       "      <th>2049</th>\n",
       "      <td>0.0</td>\n",
       "      <td>110.0</td>\n",
       "      <td>2049</td>\n",
       "    </tr>\n",
       "    <tr>\n",
       "      <th>...</th>\n",
       "      <td>...</td>\n",
       "      <td>...</td>\n",
       "      <td>...</td>\n",
       "    </tr>\n",
       "    <tr>\n",
       "      <th>2131</th>\n",
       "      <td>0.0</td>\n",
       "      <td>110.0</td>\n",
       "      <td>2131</td>\n",
       "    </tr>\n",
       "    <tr>\n",
       "      <th>2132</th>\n",
       "      <td>0.0</td>\n",
       "      <td>110.0</td>\n",
       "      <td>2132</td>\n",
       "    </tr>\n",
       "    <tr>\n",
       "      <th>2133</th>\n",
       "      <td>0.0</td>\n",
       "      <td>110.0</td>\n",
       "      <td>2133</td>\n",
       "    </tr>\n",
       "    <tr>\n",
       "      <th>2134</th>\n",
       "      <td>0.0</td>\n",
       "      <td>110.0</td>\n",
       "      <td>2134</td>\n",
       "    </tr>\n",
       "    <tr>\n",
       "      <th>2135</th>\n",
       "      <td>0.0</td>\n",
       "      <td>110.0</td>\n",
       "      <td>2135</td>\n",
       "    </tr>\n",
       "  </tbody>\n",
       "</table>\n",
       "<p>91 rows × 3 columns</p>\n",
       "</div>"
      ],
      "text/plain": [
       "      smooth  Voltage    sy\n",
       "2045     0.0    110.0  2045\n",
       "2046     0.0    110.0  2046\n",
       "2047     0.0    110.0  2047\n",
       "2048     0.0    110.0  2048\n",
       "2049     0.0    110.0  2049\n",
       "...      ...      ...   ...\n",
       "2131     0.0    110.0  2131\n",
       "2132     0.0    110.0  2132\n",
       "2133     0.0    110.0  2133\n",
       "2134     0.0    110.0  2134\n",
       "2135     0.0    110.0  2135\n",
       "\n",
       "[91 rows x 3 columns]"
      ]
     },
     "execution_count": 36,
     "metadata": {},
     "output_type": "execute_result"
    }
   ],
   "source": [
    "train_fridge_df3 = train_fridge_df2.iloc[2045:2136,2:5]\n",
    "train_fridge_df3"
   ]
  },
  {
   "cell_type": "code",
   "execution_count": 37,
   "id": "fadc880e",
   "metadata": {},
   "outputs": [
    {
     "name": "stdout",
     "output_type": "stream",
     "text": [
      "123\n",
      "123\n",
      "123\n"
     ]
    },
    {
     "name": "stderr",
     "output_type": "stream",
     "text": [
      "/environment/miniconda3/lib/python3.7/site-packages/ipykernel_launcher.py:7: ConvergenceWarning: Number of distinct clusters (1) found smaller than n_clusters (2). Possibly due to duplicate points in X.\n",
      "  import sys\n",
      "/environment/miniconda3/lib/python3.7/site-packages/ipykernel_launcher.py:7: ConvergenceWarning: Number of distinct clusters (1) found smaller than n_clusters (3). Possibly due to duplicate points in X.\n",
      "  import sys\n",
      "/environment/miniconda3/lib/python3.7/site-packages/ipykernel_launcher.py:7: ConvergenceWarning: Number of distinct clusters (1) found smaller than n_clusters (4). Possibly due to duplicate points in X.\n",
      "  import sys\n",
      "/environment/miniconda3/lib/python3.7/site-packages/ipykernel_launcher.py:7: ConvergenceWarning: Number of distinct clusters (1) found smaller than n_clusters (5). Possibly due to duplicate points in X.\n",
      "  import sys\n"
     ]
    },
    {
     "name": "stdout",
     "output_type": "stream",
     "text": [
      "123\n",
      "123\n"
     ]
    },
    {
     "name": "stderr",
     "output_type": "stream",
     "text": [
      "/environment/miniconda3/lib/python3.7/site-packages/ipykernel_launcher.py:7: ConvergenceWarning: Number of distinct clusters (1) found smaller than n_clusters (6). Possibly due to duplicate points in X.\n",
      "  import sys\n",
      "/environment/miniconda3/lib/python3.7/site-packages/ipykernel_launcher.py:7: ConvergenceWarning: Number of distinct clusters (1) found smaller than n_clusters (7). Possibly due to duplicate points in X.\n",
      "  import sys\n"
     ]
    },
    {
     "name": "stdout",
     "output_type": "stream",
     "text": [
      "123\n",
      "123\n"
     ]
    },
    {
     "name": "stderr",
     "output_type": "stream",
     "text": [
      "/environment/miniconda3/lib/python3.7/site-packages/ipykernel_launcher.py:7: ConvergenceWarning: Number of distinct clusters (1) found smaller than n_clusters (8). Possibly due to duplicate points in X.\n",
      "  import sys\n",
      "/environment/miniconda3/lib/python3.7/site-packages/ipykernel_launcher.py:7: ConvergenceWarning: Number of distinct clusters (1) found smaller than n_clusters (9). Possibly due to duplicate points in X.\n",
      "  import sys\n"
     ]
    },
    {
     "name": "stdout",
     "output_type": "stream",
     "text": [
      "123\n",
      "123\n",
      "123\n"
     ]
    },
    {
     "name": "stderr",
     "output_type": "stream",
     "text": [
      "/environment/miniconda3/lib/python3.7/site-packages/ipykernel_launcher.py:7: ConvergenceWarning: Number of distinct clusters (1) found smaller than n_clusters (10). Possibly due to duplicate points in X.\n",
      "  import sys\n"
     ]
    }
   ],
   "source": [
    "#对电压及平滑后的数据进行聚类\n",
    "X=train_fridge_df3.iloc[:,[0,1]].values\n",
    "from sklearn.cluster import KMeans#导入聚类模型\n",
    "cost = []#初始化损失（距离）值\n",
    "for i in range(1,11):#尝试不同的K值\n",
    "    kmeans = KMeans(n_clusters= i ,init='k-means++', random_state = 0)\n",
    "    kmeans.fit(X)\n",
    "    cost.append(kmeans.inertia_)#inerita_是我们选择的方法，其作用相当于损失函数\n",
    "    print('123')"
   ]
  },
  {
   "cell_type": "code",
   "execution_count": 38,
   "id": "15f4929d",
   "metadata": {},
   "outputs": [
    {
     "data": {
      "image/png": "[encoded data removed]",
      "text/plain": [
       "<Figure size 432x288 with 1 Axes>"
      ]
     },
     "metadata": {
      "needs_background": "light"
     },
     "output_type": "display_data"
    }
   ],
   "source": [
    "#绘制手肘图找到最佳K值\n",
    "import matplotlib.pyplot as plt\n",
    "import seaborn as sns\n",
    "hist,ax = plt.subplots()\n",
    "plt.plot(range(1,11),cost)\n",
    "# plt.title('The Elbow Method')\n",
    "ax.set_title('fridge')\n",
    "ax.set_ylabel('cost')\n",
    "plt.show()"
   ]
  },
  {
   "cell_type": "code",
   "execution_count": 34,
   "id": "89dde80c",
   "metadata": {},
   "outputs": [
    {
     "name": "stderr",
     "output_type": "stream",
     "text": [
      "/environment/miniconda3/lib/python3.7/site-packages/sklearn/cluster/_kmeans.py:1258: ConvergenceWarning: Number of distinct clusters (1) found smaller than n_clusters (3). Possibly due to duplicate points in X.\n",
      "  return self.fit(X, sample_weight=sample_weight).labels_\n"
     ]
    },
    {
     "data": {
      "text/plain": [
       "array([[  0., 110.],\n",
       "       [  0., 110.],\n",
       "       [  0., 110.]])"
      ]
     },
     "execution_count": 34,
     "metadata": {},
     "output_type": "execute_result"
    }
   ],
   "source": [
    "#由手肘图判断最佳K值大概是x，选择3作为聚类个数\n",
    "kmeansmodel = KMeans(n_clusters=3, init='k-means++')##3->k 通过上述拐点来取\n",
    "y_kmeans = kmeansmodel.fit_predict(X)\n",
    "kmeansmodel.cluster_centers_#3个聚类中心"
   ]
  },
  {
   "cell_type": "code",
   "execution_count": 39,
   "id": "9d1c9cb7",
   "metadata": {
    "scrolled": true
   },
   "outputs": [
    {
     "data": {
      "image/png": "[encoded data removed]",
      "text/plain": [
       "<Figure size 432x288 with 1 Axes>"
      ]
     },
     "metadata": {
      "needs_background": "light"
     },
     "output_type": "display_data"
    }
   ],
   "source": [
    "#把分类好的聚类可视化（虽然我感觉没什么用，分不太准\n",
    "hist,ax = plt.subplots()\n",
    "plt.rcParams['font.sans-serif']=['SimHei']\n",
    "plt.rcParams['axes.unicode_minus'] = False\n",
    "plt.scatter(X[y_kmeans == 0,0], X[y_kmeans == 0,1],s = 100, c = 'cyan', label = 'Cluster 1')#聚类1\n",
    "plt.scatter(X[y_kmeans == 1,0], X[y_kmeans == 1,1],s = 100, c = 'blue', label = 'Cluster 2')#聚类2\n",
    "plt.scatter(X[y_kmeans == 2,0], X[y_kmeans == 2,1],s = 100, c = 'green', label = 'Cluster 3')#聚类3\n",
    "#plt.scatter(kmeans.cluster_centers_[:,0],kmeans.cluster_centers_[:,1],s = 200, c = 'yellow', label = 'Centroids')#质心\n",
    "ax.set_xlabel('Power')#能耗\n",
    "ax.set_ylabel('Voltage')#电压\n",
    "plt.legend()\n",
    "plt.show()"
   ]
  },
  {
   "cell_type": "code",
   "execution_count": 40,
   "id": "441a58cc",
   "metadata": {},
   "outputs": [],
   "source": [
    "#数组切割方法\n",
    "fdf1=train_fridge_df3.loc[(train_fridge_df3['smooth']>=0) & (train_fridge_df3['smooth']<150)]\n",
    "fdf2=train_fridge_df3.loc[(train_fridge_df3['smooth']>=150)& (train_fridge_df3['smooth']<3000)]\n",
    "#fdf3=train_fridge_df3.loc[(train_fridge_df3['smooth']>=900)]"
   ]
  },
  {
   "cell_type": "code",
   "execution_count": 41,
   "id": "476cf7c8",
   "metadata": {},
   "outputs": [],
   "source": [
    "##标记状态\n",
    "fdf1['status']=0\n",
    "fdf2['status']=1\n",
    "#fdf3['status']=2"
   ]
  },
  {
   "cell_type": "code",
   "execution_count": 43,
   "id": "8b8b5382",
   "metadata": {},
   "outputs": [],
   "source": [
    "#切割后重新拼接排序\n",
    "train_total=pd.concat([fdf1,fdf2])\n",
    "train_total.sort_values(by='sy', inplace=True, ascending=True)"
   ]
  },
  {
   "cell_type": "code",
   "execution_count": 44,
   "id": "c77f76f9",
   "metadata": {},
   "outputs": [
    {
     "data": {
      "image/png": "[encoded data removed]",
      "text/plain": [
       "<Figure size 432x288 with 1 Axes>"
      ]
     },
     "metadata": {
      "needs_background": "light"
     },
     "output_type": "display_data"
    }
   ],
   "source": [
    "##聚类前的图像\n",
    "train_total.plot.scatter(['sy'],('smooth'),colormap='jet')\n",
    "#train_total.plot.scatter(['sy'],['smooth'],colormap='jet')\n",
    "plt.title('result1')\n",
    "plt.show()"
   ]
  },
  {
   "cell_type": "code",
   "execution_count": 45,
   "id": "c7d0e17a",
   "metadata": {},
   "outputs": [
    {
     "data": {
      "image/png": "[encoded data removed]",
      "text/plain": [
       "<Figure size 432x288 with 2 Axes>"
      ]
     },
     "metadata": {
      "needs_background": "light"
     },
     "output_type": "display_data"
    },
    {
     "data": {
      "text/plain": [
       "<Figure size 1152x576 with 0 Axes>"
      ]
     },
     "metadata": {},
     "output_type": "display_data"
    }
   ],
   "source": [
    "###聚类后的图像\n",
    "import matplotlib.pyplot as plt\n",
    "train_total.plot.scatter(['sy'],('smooth'),c='status',cmap='rainbow')\n",
    "#train_total.plot.scatter(['sy'],['smooth'],c='status',colormap='jet')\n",
    "plt.title('result1')\n",
    "plt.figure(figsize=(16,8))\n",
    "plt.show()"
   ]
  },
  {
   "cell_type": "code",
   "execution_count": 175,
   "id": "f351110b",
   "metadata": {},
   "outputs": [],
   "source": [
    "#去掉多余的辅助数据\n",
    "#train_total.index=train_df1.index\n",
    "#train_total.drop(['index','Voltage'],axis=1,inplace=True)\n",
    "#train_total['time']=train_total.index\n",
    "#train_total['time'] = pd.to_numeric(train_total['time'])"
   ]
  },
  {
   "cell_type": "code",
   "execution_count": null,
   "id": "831ac017-b80d-42fb-aba7-7525e8132a95",
   "metadata": {},
   "outputs": [],
   "source": []
  }
 ],
 "metadata": {
  "kernelspec": {
   "display_name": "Python 3 (ipykernel)",
   "language": "python",
   "name": "python3"
  },
  "language_info": {
   "codemirror_mode": {
    "name": "ipython",
    "version": 3
   },
   "file_extension": ".py",
   "mimetype": "text/x-python",
   "name": "python",
   "nbconvert_exporter": "python",
   "pygments_lexer": "ipython3",
   "version": "3.7.10"
  }
 },
 "nbformat": 4,
 "nbformat_minor": 5
}
